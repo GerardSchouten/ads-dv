{
 "cells": [
  {
   "cell_type": "markdown",
   "metadata": {},
   "source": [
    "# ADS-DV Week 2 Assignment 2\n",
    "\n",
    "# Plotting scatter plots and histograms\n",
    "\n",
    "# Summary\n",
    "This assignment first shows you how to download csv data from an online source. Then we're exploring a dataset of all the cities in the world and compare cities in The Netherlands to the rest of the world."
   ]
  },
  {
   "cell_type": "markdown",
   "metadata": {},
   "source": [
    "## Loading data CSV and Pandas\n",
    "\n",
    "While reproducible research recommends having your data somewhere where you know it will not change, it may not be feasible to put large datafiles in your portfolio. We will work with a database of information about cities around the world:\n",
    "\n",
    "https://www.maxmind.com/en/free-world-cities-database\n",
    "\n",
    "Working with data structures can be done in many ways in Python. There are the standard Python arrays, lists and tuples. You can also use the arrays in the numpy package which allow you to do heavy math operations efficiently. For data analysis Pandas is often used, because data can be put into so-called dataframes. Data-frames store data with column and row names and can easily be manipulated and plotted. You will learn more about Pandas in the Machine Learning workshops. A short intro can be found here:\n",
    "\n",
    "http://pandas.pydata.org/pandas-docs/stable/10min.html"
   ]
  },
  {
   "cell_type": "code",
   "execution_count": null,
   "metadata": {},
   "outputs": [],
   "source": [
    "import urllib.request as urllib, zipfile, os\n",
    "\n",
    "url = 'http://download.maxmind.com/download/worldcities/'\n",
    "filename = 'worldcitiespop.txt.gz'\n",
    "datafolder = 'data/'"
   ]
  },
  {
   "cell_type": "code",
   "execution_count": null,
   "metadata": {},
   "outputs": [],
   "source": [
    "downloaded = urllib.urlopen(url + filename)\n",
    "buf = downloaded.read()\n",
    "\n",
    "try:\n",
    "    os.mkdir(datafolder)\n",
    "except FileExistsError:\n",
    "    pass\n",
    "\n",
    "with open(datafolder + filename, 'wb') as f:\n",
    "    f.write(buf)"
   ]
  },
  {
   "cell_type": "code",
   "execution_count": null,
   "metadata": {},
   "outputs": [],
   "source": [
    "import pandas as pd\n",
    "cities = pd.read_csv(datafolder + filename, sep=',', low_memory=False, encoding = 'ISO-8859-1')"
   ]
  },
  {
   "cell_type": "markdown",
   "metadata": {},
   "source": [
    "## Data manipulation\n",
    "\n",
    "We can take a peek at the data by checking out the final rows of data. Do you see any potential problem with this dataset?"
   ]
  },
  {
   "cell_type": "code",
   "execution_count": null,
   "metadata": {},
   "outputs": [],
   "source": [
    "cities.tail()"
   ]
  },
  {
   "cell_type": "code",
   "execution_count": null,
   "metadata": {},
   "outputs": [],
   "source": [
    "cities.sort(columns='Population', ascending=False).head()"
   ]
  },
  {
   "cell_type": "markdown",
   "metadata": {},
   "source": [
    "By sorting the cities on population we immediately see the entries of a few of the largest cities in the world.\n",
    "\n",
    "## Assignment A\n",
    "To get an idea of where in the world the cities in the dataset are located, we want to make a scatter plot of the position of all the cities in the dataset.\n",
    "\n",
    "Don't worry about drawing country borders, just plot the locations of the cities.\n",
    "\n",
    "Remember to use all the basic plot elements you need to understand this plot."
   ]
  },
  {
   "cell_type": "code",
   "execution_count": null,
   "metadata": {},
   "outputs": [],
   "source": [
    "import numpy as np\n",
    "from matplotlib import pyplot as plt\n",
    "%matplotlib inline \n",
    "\n",
    "plt.figure();"
   ]
  },
  {
   "cell_type": "markdown",
   "metadata": {},
   "source": [
    "## Assignment B\n",
    "\n",
    "Now we want to plot the cities in The Netherlands only. Use a scatter plot again to plot the cities, but now vary the size of the marker and the color with the population of that city.\n",
    "\n",
    "Use a colorbar to show how the color of the marker relates to its population.\n",
    "\n",
    "Use sensible limits to your axes so that you show only mainland The Netherlands (and not the Dutch Antilles)."
   ]
  },
  {
   "cell_type": "code",
   "execution_count": null,
   "metadata": {},
   "outputs": [],
   "source": [
    "dutch_cities = cities[ cities['Country'] =='nl' ]\n",
    "plt.figure(figsize=[7,7]);"
   ]
  },
  {
   "cell_type": "markdown",
   "metadata": {},
   "source": [
    "## Assignment C\n",
    "\n",
    "Using assignment B, we could clearly see larger cities such as Amsterdam, Rotterdam and even Eindhoven. But we still do not really have a clear overview of how many big cities there are. To show a distribution we use a histogram plot.\n",
    "\n",
    "What happens if we do not call the .dropna() function?\n",
    "\n",
    "Add proper basic plot elements to this plot and try to annotate which data point is Amsterdam and Eindhoven."
   ]
  },
  {
   "cell_type": "code",
   "execution_count": null,
   "metadata": {},
   "outputs": [],
   "source": [
    "plt.figure();\n",
    "plt.hist(np.asarray(dutch_cities.dropna().Population/1000), 100, normed=1);"
   ]
  },
  {
   "cell_type": "markdown",
   "metadata": {},
   "source": [
    "## Assignment D\n",
    "\n",
    "Now we want to compare how the distribution of Dutch cities compares to that of the entire world.\n",
    "\n",
    "Use subplots to show the dutch distribution (top plot) and the world distribution (bottom plot)."
   ]
  },
  {
   "cell_type": "code",
   "execution_count": null,
   "metadata": {},
   "outputs": [],
   "source": [
    "plt.figure(figsize=[20, 8]);\n",
    "plt.subplot(2,1,1);\n",
    "plt.hist(np.asarray(dutch_cities.dropna().Population/1000), bins=np.arange(0, 200, 1), normed=1);\n",
    "## add the subplot of the world cities below this Dutch one"
   ]
  },
  {
   "cell_type": "markdown",
   "metadata": {},
   "source": [
    "## Assignment E\n",
    "\n",
    "Write what conclusions you can deduce from the above plots?"
   ]
  }
 ],
 "metadata": {
  "kernelspec": {
   "display_name": "Python 3",
   "language": "python",
   "name": "python3"
  },
  "language_info": {
   "codemirror_mode": {
    "name": "ipython",
    "version": 3.0
   },
   "file_extension": ".py",
   "mimetype": "text/x-python",
   "name": "python",
   "nbconvert_exporter": "python",
   "pygments_lexer": "ipython3",
   "version": "3.4.3"
  }
 },
 "nbformat": 4,
 "nbformat_minor": 0
}