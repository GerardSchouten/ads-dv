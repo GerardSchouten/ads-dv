{
 "cells": [
  {
   "cell_type": "markdown",
   "metadata": {},
   "source": [
    "# Personal introduction\n",
    "by Olaf Janssen (olaf.janssen@fontys.nl)\n",
    "\n",
    "## Summary\n",
    "The notebook gives a summary of the author and show how to set-up a basic iPython Notebook report. It also briefly gives the outcome, namely that the author is 34 years old (in end of 2015).\n",
    "\n",
    "## Introduction\n",
    "A notebook can introduce the topic it will describe and maybe explain some of the terminology used or give the reason why this part of the research is interesting. For instance, in these text blocks you use MarkDown to style your text. See https://portal.fhict.nl/AppliedDataScience/Shared%20Documents/Markdown%20Reference.pdf for a quick reference.\n",
    "\n",
    "## Getting and cleaning data\n",
    "Try to tell as much as you can before you show code about what you are going to do so that you don't have to include that in the comments. Here I construct a simple data model of the author.\n",
    "\n",
    "Of course, we are using Python. A quick reference can be found here: https://portal.fhict.nl/AppliedDataScience/Shared%20Documents/Python%20Quick%20Reference.pdf"
   ]
  },
  {
   "cell_type": "code",
   "execution_count": 1,
   "metadata": {},
   "outputs": [
    {
     "name": "stdout",
     "output_type": "stream",
     "text": [
      "{'name': 'Olaf', 'birth_year': 1981}\n"
     ]
    }
   ],
   "source": [
    "author = {'name': 'Olaf', 'birth_year': 1981}\n",
    "print(author)"
   ]
  },
  {
   "cell_type": "markdown",
   "metadata": {},
   "source": [
    "## Analysis\n",
    "Several chapters can now follow in which data is analysed using Machine Learning or whatever other method. This section may include visualizations, of course. Here I compute the author's age."
   ]
  },
  {
   "cell_type": "code",
   "execution_count": 2,
   "metadata": {},
   "outputs": [
    {
     "name": "stdout",
     "output_type": "stream",
     "text": [
      "34\n"
     ]
    }
   ],
   "source": [
    "import datetime\n",
    "age = datetime.datetime.now().year - author['birth_year']\n",
    "print(age)"
   ]
  },
  {
   "cell_type": "markdown",
   "metadata": {},
   "source": [
    "## Result or conclusions\n",
    "Usually your Notebook ends with the final results, either in numbers, tables or visualizations and explanatory conclusions."
   ]
  },
  {
   "cell_type": "code",
   "execution_count": null,
   "metadata": {},
   "outputs": [],
   "source": [
    ""
   ]
  }
 ],
 "metadata": {
  "kernelspec": {
   "display_name": "Python 3",
   "language": "python",
   "name": "python3"
  },
  "language_info": {
   "codemirror_mode": {
    "name": "ipython",
    "version": 3.0
   },
   "file_extension": ".py",
   "mimetype": "text/x-python",
   "name": "python",
   "nbconvert_exporter": "python",
   "pygments_lexer": "ipython3",
   "version": "3.4.3"
  }
 },
 "nbformat": 4,
 "nbformat_minor": 0
}